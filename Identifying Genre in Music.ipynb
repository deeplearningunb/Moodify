{
 "cells": [
  {
   "cell_type": "markdown",
   "metadata": {},
   "source": [
    "# Import Libraries"
   ]
  },
  {
   "cell_type": "code",
   "execution_count": 1,
   "metadata": {},
   "outputs": [
    {
     "name": "stderr",
     "output_type": "stream",
     "text": [
      "Using TensorFlow backend.\n",
      "/opt/conda/lib/python3.7/site-packages/tensorflow/python/framework/dtypes.py:526: FutureWarning: Passing (type, 1) or '1type' as a synonym of type is deprecated; in a future version of numpy, it will be understood as (type, (1,)) / '(1,)type'.\n",
      "  _np_qint8 = np.dtype([(\"qint8\", np.int8, 1)])\n",
      "/opt/conda/lib/python3.7/site-packages/tensorflow/python/framework/dtypes.py:527: FutureWarning: Passing (type, 1) or '1type' as a synonym of type is deprecated; in a future version of numpy, it will be understood as (type, (1,)) / '(1,)type'.\n",
      "  _np_quint8 = np.dtype([(\"quint8\", np.uint8, 1)])\n",
      "/opt/conda/lib/python3.7/site-packages/tensorflow/python/framework/dtypes.py:528: FutureWarning: Passing (type, 1) or '1type' as a synonym of type is deprecated; in a future version of numpy, it will be understood as (type, (1,)) / '(1,)type'.\n",
      "  _np_qint16 = np.dtype([(\"qint16\", np.int16, 1)])\n",
      "/opt/conda/lib/python3.7/site-packages/tensorflow/python/framework/dtypes.py:529: FutureWarning: Passing (type, 1) or '1type' as a synonym of type is deprecated; in a future version of numpy, it will be understood as (type, (1,)) / '(1,)type'.\n",
      "  _np_quint16 = np.dtype([(\"quint16\", np.uint16, 1)])\n",
      "/opt/conda/lib/python3.7/site-packages/tensorflow/python/framework/dtypes.py:530: FutureWarning: Passing (type, 1) or '1type' as a synonym of type is deprecated; in a future version of numpy, it will be understood as (type, (1,)) / '(1,)type'.\n",
      "  _np_qint32 = np.dtype([(\"qint32\", np.int32, 1)])\n",
      "/opt/conda/lib/python3.7/site-packages/tensorflow/python/framework/dtypes.py:535: FutureWarning: Passing (type, 1) or '1type' as a synonym of type is deprecated; in a future version of numpy, it will be understood as (type, (1,)) / '(1,)type'.\n",
      "  np_resource = np.dtype([(\"resource\", np.ubyte, 1)])\n"
     ]
    }
   ],
   "source": [
    "# feature extractoring and preprocessing data\n",
    "import librosa as librosa\n",
    "import pandas as pd\n",
    "import numpy as np\n",
    "import matplotlib.pyplot as plt\n",
    "%matplotlib inline\n",
    "import os\n",
    "from PIL import Image\n",
    "import pathlib\n",
    "import csv\n",
    "import soundfile as sf\n",
    "from glob import glob\n",
    "import IPython.display as ipd\n",
    "\n",
    "import io\n",
    "from urllib.request import urlopen\n",
    "\n",
    "\n",
    "# Preprocessing\n",
    "from sklearn.model_selection import train_test_split\n",
    "from sklearn.preprocessing import LabelEncoder, StandardScaler\n",
    "\n",
    "\n",
    "#Keras\n",
    "import keras\n",
    "\n",
    "import warnings\n",
    "warnings.filterwarnings('ignore')"
   ]
  },
  {
   "cell_type": "code",
   "execution_count": 2,
   "metadata": {},
   "outputs": [],
   "source": [
    "# test with libraries\n",
    "# Download https://www.kaggle.com/kinguistics/heartbeat-sounds/data\n",
    "\n",
    "# data_dir = './music_genre_dataset/heartbeat-sounds/set_a'\n",
    "# audio_files = glob(data_dir+'/*.wav')\n",
    "# len(audio_files)"
   ]
  },
  {
   "cell_type": "code",
   "execution_count": 3,
   "metadata": {},
   "outputs": [],
   "source": [
    "# for file in range(0, len(audio_files), 1):\n",
    "#     audio, sfreq = librosa.load(audio_files[file])\n",
    "#     time = np.arange(0, len(audio))/sfreq\n",
    "    \n",
    "#     fig, ax = plt.subplots()\n",
    "#     ax.plot(time,audio)\n",
    "#     ax.set(xlabel= 'Time em segundos', ylabel = \"Amplitude\")\n",
    "#     plt.show()\n",
    "    "
   ]
  },
  {
   "cell_type": "code",
   "execution_count": 4,
   "metadata": {},
   "outputs": [],
   "source": [
    "#     X = librosa.stft(audio)\n",
    "#     Xdb = librosa.amplitude_to_db(abs(X))\n",
    "#     plt.figure(figsize=(14, 5))\n",
    "#     librosa.display.specshow(Xdb, sr=sr, x_axis='time', y_axis='hz')\n",
    "#     plt.colorbar()"
   ]
  },
  {
   "cell_type": "code",
   "execution_count": 5,
   "metadata": {},
   "outputs": [],
   "source": [
    "#  librosa.output.write_wav('example.wav', x, sr)"
   ]
  },
  {
   "cell_type": "markdown",
   "metadata": {},
   "source": [
    "# Extracting and feature music\n",
    "\n",
    "## Dataset\n",
    "We use GTZAN genre collection dataset for classification.\n",
    "\n",
    "The dataset consists of 10 genres,each genre contains 100 songs. Total dataset: 1000 songs\n",
    "\n",
    " - Blues\n",
    " - Classical\n",
    " - Country\n",
    " - Disco\n",
    " - Hiphop\n",
    " - Jazz\n",
    " - Metal\n",
    " - Pop\n",
    " - Reggae\n",
    " - Rock\n"
   ]
  },
  {
   "cell_type": "code",
   "execution_count": 6,
   "metadata": {},
   "outputs": [
    {
     "name": "stdout",
     "output_type": "stream",
     "text": [
      "Total musics in genre blues:  100\n",
      "Total musics in genre classical:  100\n",
      "Total musics in genre country:  100\n",
      "Total musics in genre disco:  100\n",
      "Total musics in genre hiphop:  100\n",
      "Total musics in genre jazz:  100\n",
      "Total musics in genre metal:  100\n",
      "Total musics in genre pop:  100\n",
      "Total musics in genre reggae:  100\n",
      "Total musics in genre rock:  100\n"
     ]
    }
   ],
   "source": [
    "genres = 'blues classical country disco hiphop jazz metal pop reggae rock'.split()\n",
    "for g in genres:\n",
    "    data_dir = f'music_genre_dataset/genres/{g}'\n",
    "    audio_files = glob(data_dir+'/*.wav')\n",
    "    print(f'Total musics in genre {g}: ', len(audio_files))"
   ]
  },
  {
   "cell_type": "code",
   "execution_count": 7,
   "metadata": {},
   "outputs": [],
   "source": [
    "# genres = 'blues classical country disco hiphop jazz metal pop reggae rock'.split()\n",
    "# for g in genres:\n",
    "#     data_dir = f'music_genre_dataset/genres/{g}'\n",
    "#     audio_files = glob(data_dir+'/*.wav')\n",
    "    \n",
    "#     print('--------------------------------------------------------------------------------')\n",
    "#     print(f'List musics in genre: {g}')\n",
    "    \n",
    "#     for file in range(0, len(audio_files), 1):\n",
    "#         audio, sfreq = librosa.load(audio_files[file])\n",
    "#         time = np.arange(0, len(audio))/sfreq\n",
    "#         fig, ax = plt.subplots()\n",
    "#         ax.plot(time,audio)\n",
    "#         ax.set(xlabel= 'Time em segundos', ylabel = \"Amplitude\")\n",
    "#         plt.show()"
   ]
  },
  {
   "cell_type": "code",
   "execution_count": null,
   "metadata": {},
   "outputs": [],
   "source": []
  },
  {
   "cell_type": "markdown",
   "metadata": {},
   "source": [
    "# Extracting the Spectrogram for every Audio"
   ]
  },
  {
   "cell_type": "code",
   "execution_count": 8,
   "metadata": {},
   "outputs": [],
   "source": [
    "# cmap = plt.get_cmap('inferno')\n",
    "\n",
    "# plt.figure(figsize=(10,10))\n",
    "# genres = 'blues classical country disco hiphop jazz metal pop reggae rock'.split()\n",
    "# for g in genres:\n",
    "#     data_dir = f'music_genre_dataset/genres/{g}'\n",
    "#     audio_files = glob(data_dir+'/*.wav')\n",
    "    \n",
    "#     print('--------------------------------------------------------------------------------')\n",
    "#     print(f'List musics in genre: {g}')\n",
    "    \n",
    "    \n",
    "#     for filename in os.listdir(f'./music_genre_dataset/genres/{g}'):\n",
    "#         songname = f'./music_genre_dataset/genres/{g}/{filename}'\n",
    "        \n",
    "#         y, sr = librosa.load(songname, mono=True, duration=5)\n",
    "#         plt.specgram(y, NFFT=2048, Fs=2, Fc=0, noverlap=128, cmap=cmap, sides='default', mode='default', scale='dB');\n",
    "#         plt.axis('off');\n",
    "#         plt.savefig(f'./music_genre_dataset/img_data/{g}/{filename[:-3].replace(\".\", \"\")}.png')\n",
    "#         plt.clf()                    "
   ]
  },
  {
   "cell_type": "markdown",
   "metadata": {},
   "source": [
    "All the audio files get converted into their respective spectrograms .WE can noe easily extract features from them."
   ]
  },
  {
   "cell_type": "markdown",
   "metadata": {},
   "source": [
    "# Extracting features from Spectrogram\n",
    "\n",
    "We will extract\n",
    "\n",
    " - Mel-frequency cepstral coefficients (MFCC)(20 in number)\n",
    " - Spectral Centroid,\n",
    " - Zero Crossing Rate\n",
    " - Chroma Frequencies\n",
    " - Spectral Roll-off."
   ]
  },
  {
   "cell_type": "code",
   "execution_count": 9,
   "metadata": {},
   "outputs": [],
   "source": [
    "header = 'filename chroma_stft rmse spectral_centroid spectral_bandwidth rolloff zero_crossing_rate'\n",
    "for i in range(1, 21):\n",
    "    header += f' mfcc{i}'\n",
    "header += ' label'\n",
    "header = header.split()"
   ]
  },
  {
   "cell_type": "markdown",
   "metadata": {},
   "source": [
    "# Writing data to csv file¶\n",
    "We write the data to a csv file"
   ]
  },
  {
   "cell_type": "code",
   "execution_count": 10,
   "metadata": {},
   "outputs": [],
   "source": [
    "file = open('./music_genre_dataset/data.csv', 'w', newline='')\n",
    "with file:\n",
    "    writer = csv.writer(file)\n",
    "    writer.writerow(header)\n",
    "genres = 'blues classical country disco hiphop jazz metal pop reggae rock'.split()\n",
    "for g in genres:\n",
    "#     data_dir = f'music_genre_dataset/genres/{g}'\n",
    "    \n",
    "    for filename in os.listdir(f'./music_genre_dataset/genres/{g}'):\n",
    "        songname = f'./music_genre_dataset/genres/{g}/{filename}'\n",
    "        y, sr = librosa.load(songname, mono=True, duration=30)\n",
    "        chroma_stft = librosa.feature.chroma_stft(y=y, sr=sr)\n",
    "        spec_cent = librosa.feature.spectral_centroid(y=y, sr=sr)\n",
    "        spec_bw = librosa.feature.spectral_bandwidth(y=y, sr=sr)\n",
    "        rolloff = librosa.feature.spectral_rolloff(y=y, sr=sr)\n",
    "        zcr = librosa.feature.zero_crossing_rate(y)\n",
    "        mfcc = librosa.feature.mfcc(y=y, sr=sr)\n",
    "        to_append = f'{file} {np.mean(chroma_stft)} {np.mean(spec_cent)} {np.mean(spec_bw)} {np.mean(rolloff)} {np.mean(zcr)}'    \n",
    "        for e in mfcc:\n",
    "            to_append += f' {np.mean(e)}'\n",
    "        to_append += f' {g}'\n",
    "        file = open('./music_genre_dataset/data.csv', 'a', newline='')\n",
    "        with file:\n",
    "            writer = csv.writer(file)\n",
    "            writer.writerow(to_append.split())\n",
    "        "
   ]
  },
  {
   "cell_type": "code",
   "execution_count": 11,
   "metadata": {},
   "outputs": [],
   "source": [
    "# file = open('./music_genre_dataset/data.csv', 'w', newline='')\n",
    "# with file:\n",
    "#     writer = csv.writer(file)\n",
    "#     writer.writerow(header)\n",
    "# genres = 'blues classical country disco hiphop jazz metal pop reggae rock'.split()\n",
    "# for g in genres:\n",
    "#     print(os.listdir(f'./music_genre_dataset/genres/{g}')\n",
    "        \n",
    "    \n",
    "#     for filename in os.listdir(f'./music_genre_dataset/genres/{g}'):\n",
    "#         songname = f'./music_genre_dataset/genres/{g}/{filename}'\n",
    "#         y, sr = librosa.load(songname, mono=True, duration=30)\n",
    "#         chroma_stft = librosa.feature.chroma_stft(y=y, sr=sr)\n",
    "#         spec_cent = librosa.feature.spectral_centroid(y=y, sr=sr)\n",
    "#         spec_bw = librosa.feature.spectral_bandwidth(y=y, sr=sr)\n",
    "#         rolloff = librosa.feature.spectral_rolloff(y=y, sr=sr)\n",
    "#         zcr = librosa.feature.zero_crossing_rate(y)\n",
    "#         mfcc = librosa.feature.mfcc(y=y, sr=sr)\n",
    "#         to_append = f'{filename} {np.mean(chroma_stft)} {np.mean(rmse)} {np.mean(spec_cent)} {np.mean(spec_bw)} {np.mean(rolloff)} {np.mean(zcr)}'    \n",
    "#         for e in mfcc:\n",
    "#             to_append += f' {np.mean(e)}'\n",
    "#         to_append += f' {g}'\n",
    "#         file = open('./music_genre_dataset/data.csv', 'a', newline='')\n",
    "#         with file:\n",
    "#             writer = csv.writer(file)\n",
    "#             writer.writerow(to_append.split())"
   ]
  },
  {
   "cell_type": "code",
   "execution_count": 12,
   "metadata": {},
   "outputs": [],
   "source": [
    "# Data Analising with padas"
   ]
  },
  {
   "cell_type": "code",
   "execution_count": 13,
   "metadata": {},
   "outputs": [
    {
     "data": {
      "text/html": [
       "<div>\n",
       "<style scoped>\n",
       "    .dataframe tbody tr th:only-of-type {\n",
       "        vertical-align: middle;\n",
       "    }\n",
       "\n",
       "    .dataframe tbody tr th {\n",
       "        vertical-align: top;\n",
       "    }\n",
       "\n",
       "    .dataframe thead th {\n",
       "        text-align: right;\n",
       "    }\n",
       "</style>\n",
       "<table border=\"1\" class=\"dataframe\">\n",
       "  <thead>\n",
       "    <tr style=\"text-align: right;\">\n",
       "      <th></th>\n",
       "      <th></th>\n",
       "      <th>filename</th>\n",
       "      <th>chroma_stft</th>\n",
       "      <th>rmse</th>\n",
       "      <th>spectral_centroid</th>\n",
       "      <th>spectral_bandwidth</th>\n",
       "      <th>rolloff</th>\n",
       "      <th>zero_crossing_rate</th>\n",
       "      <th>mfcc1</th>\n",
       "      <th>mfcc2</th>\n",
       "      <th>mfcc3</th>\n",
       "      <th>...</th>\n",
       "      <th>mfcc12</th>\n",
       "      <th>mfcc13</th>\n",
       "      <th>mfcc14</th>\n",
       "      <th>mfcc15</th>\n",
       "      <th>mfcc16</th>\n",
       "      <th>mfcc17</th>\n",
       "      <th>mfcc18</th>\n",
       "      <th>mfcc19</th>\n",
       "      <th>mfcc20</th>\n",
       "      <th>label</th>\n",
       "    </tr>\n",
       "  </thead>\n",
       "  <tbody>\n",
       "    <tr>\n",
       "      <td rowspan=\"5\" valign=\"top\">&lt;_io.TextIOWrapper</td>\n",
       "      <td>name='./music_genre_dataset/data.csv'</td>\n",
       "      <td>mode='w'</td>\n",
       "      <td>encoding='UTF-8'&gt;</td>\n",
       "      <td>0.329163</td>\n",
       "      <td>1172.065695</td>\n",
       "      <td>1705.817502</td>\n",
       "      <td>2344.952487</td>\n",
       "      <td>0.045046</td>\n",
       "      <td>-305.705170</td>\n",
       "      <td>113.060928</td>\n",
       "      <td>12.118720</td>\n",
       "      <td>...</td>\n",
       "      <td>1.298478</td>\n",
       "      <td>5.954477</td>\n",
       "      <td>8.543867</td>\n",
       "      <td>1.117664</td>\n",
       "      <td>0.591559</td>\n",
       "      <td>0.057474</td>\n",
       "      <td>-3.712341</td>\n",
       "      <td>-1.004448</td>\n",
       "      <td>-1.802433</td>\n",
       "      <td>blues</td>\n",
       "    </tr>\n",
       "    <tr>\n",
       "      <td>name='./music_genre_dataset/data.csv'</td>\n",
       "      <td>mode='a'</td>\n",
       "      <td>encoding='UTF-8'&gt;</td>\n",
       "      <td>0.377688</td>\n",
       "      <td>1613.315725</td>\n",
       "      <td>1972.202261</td>\n",
       "      <td>3470.404015</td>\n",
       "      <td>0.058236</td>\n",
       "      <td>-177.490753</td>\n",
       "      <td>115.346100</td>\n",
       "      <td>9.969872</td>\n",
       "      <td>...</td>\n",
       "      <td>1.384243</td>\n",
       "      <td>-5.837235</td>\n",
       "      <td>5.016451</td>\n",
       "      <td>-0.748613</td>\n",
       "      <td>5.065469</td>\n",
       "      <td>-5.084879</td>\n",
       "      <td>-2.795499</td>\n",
       "      <td>2.435524</td>\n",
       "      <td>-5.375208</td>\n",
       "      <td>blues</td>\n",
       "    </tr>\n",
       "    <tr>\n",
       "      <td>name='./music_genre_dataset/data.csv'</td>\n",
       "      <td>mode='a'</td>\n",
       "      <td>encoding='UTF-8'&gt;</td>\n",
       "      <td>0.302346</td>\n",
       "      <td>1831.942368</td>\n",
       "      <td>1729.483241</td>\n",
       "      <td>3480.937285</td>\n",
       "      <td>0.094040</td>\n",
       "      <td>-177.869049</td>\n",
       "      <td>118.196907</td>\n",
       "      <td>-17.550674</td>\n",
       "      <td>...</td>\n",
       "      <td>-2.420614</td>\n",
       "      <td>-9.339365</td>\n",
       "      <td>-9.939324</td>\n",
       "      <td>-3.909892</td>\n",
       "      <td>-5.570624</td>\n",
       "      <td>-1.839023</td>\n",
       "      <td>-2.778421</td>\n",
       "      <td>-3.046866</td>\n",
       "      <td>-8.115808</td>\n",
       "      <td>blues</td>\n",
       "    </tr>\n",
       "    <tr>\n",
       "      <td>name='./music_genre_dataset/data.csv'</td>\n",
       "      <td>mode='a'</td>\n",
       "      <td>encoding='UTF-8'&gt;</td>\n",
       "      <td>0.400860</td>\n",
       "      <td>1945.848425</td>\n",
       "      <td>2082.246626</td>\n",
       "      <td>4175.874749</td>\n",
       "      <td>0.085806</td>\n",
       "      <td>-82.979019</td>\n",
       "      <td>107.052124</td>\n",
       "      <td>-25.320452</td>\n",
       "      <td>...</td>\n",
       "      <td>12.539581</td>\n",
       "      <td>-9.762303</td>\n",
       "      <td>2.562252</td>\n",
       "      <td>-6.300853</td>\n",
       "      <td>2.996785</td>\n",
       "      <td>-8.718455</td>\n",
       "      <td>-0.326581</td>\n",
       "      <td>-2.980347</td>\n",
       "      <td>0.712601</td>\n",
       "      <td>blues</td>\n",
       "    </tr>\n",
       "    <tr>\n",
       "      <td>name='./music_genre_dataset/data.csv'</td>\n",
       "      <td>mode='a'</td>\n",
       "      <td>encoding='UTF-8'&gt;</td>\n",
       "      <td>0.387851</td>\n",
       "      <td>1912.506881</td>\n",
       "      <td>2361.474653</td>\n",
       "      <td>4776.862782</td>\n",
       "      <td>0.058426</td>\n",
       "      <td>-182.638275</td>\n",
       "      <td>90.676796</td>\n",
       "      <td>14.119084</td>\n",
       "      <td>...</td>\n",
       "      <td>5.811708</td>\n",
       "      <td>-5.149533</td>\n",
       "      <td>0.192984</td>\n",
       "      <td>-14.480762</td>\n",
       "      <td>6.862884</td>\n",
       "      <td>-4.442362</td>\n",
       "      <td>-2.986888</td>\n",
       "      <td>-4.816248</td>\n",
       "      <td>5.400326</td>\n",
       "      <td>blues</td>\n",
       "    </tr>\n",
       "  </tbody>\n",
       "</table>\n",
       "<p>5 rows × 28 columns</p>\n",
       "</div>"
      ],
      "text/plain": [
       "                                                          filename  \\\n",
       "<_io.TextIOWrapper name='./music_genre_dataset/data.csv'  mode='w'   \n",
       "                   name='./music_genre_dataset/data.csv'  mode='a'   \n",
       "                   name='./music_genre_dataset/data.csv'  mode='a'   \n",
       "                   name='./music_genre_dataset/data.csv'  mode='a'   \n",
       "                   name='./music_genre_dataset/data.csv'  mode='a'   \n",
       "\n",
       "                                                                chroma_stft  \\\n",
       "<_io.TextIOWrapper name='./music_genre_dataset/data.csv'  encoding='UTF-8'>   \n",
       "                   name='./music_genre_dataset/data.csv'  encoding='UTF-8'>   \n",
       "                   name='./music_genre_dataset/data.csv'  encoding='UTF-8'>   \n",
       "                   name='./music_genre_dataset/data.csv'  encoding='UTF-8'>   \n",
       "                   name='./music_genre_dataset/data.csv'  encoding='UTF-8'>   \n",
       "\n",
       "                                                              rmse  \\\n",
       "<_io.TextIOWrapper name='./music_genre_dataset/data.csv'  0.329163   \n",
       "                   name='./music_genre_dataset/data.csv'  0.377688   \n",
       "                   name='./music_genre_dataset/data.csv'  0.302346   \n",
       "                   name='./music_genre_dataset/data.csv'  0.400860   \n",
       "                   name='./music_genre_dataset/data.csv'  0.387851   \n",
       "\n",
       "                                                          spectral_centroid  \\\n",
       "<_io.TextIOWrapper name='./music_genre_dataset/data.csv'        1172.065695   \n",
       "                   name='./music_genre_dataset/data.csv'        1613.315725   \n",
       "                   name='./music_genre_dataset/data.csv'        1831.942368   \n",
       "                   name='./music_genre_dataset/data.csv'        1945.848425   \n",
       "                   name='./music_genre_dataset/data.csv'        1912.506881   \n",
       "\n",
       "                                                          spectral_bandwidth  \\\n",
       "<_io.TextIOWrapper name='./music_genre_dataset/data.csv'         1705.817502   \n",
       "                   name='./music_genre_dataset/data.csv'         1972.202261   \n",
       "                   name='./music_genre_dataset/data.csv'         1729.483241   \n",
       "                   name='./music_genre_dataset/data.csv'         2082.246626   \n",
       "                   name='./music_genre_dataset/data.csv'         2361.474653   \n",
       "\n",
       "                                                              rolloff  \\\n",
       "<_io.TextIOWrapper name='./music_genre_dataset/data.csv'  2344.952487   \n",
       "                   name='./music_genre_dataset/data.csv'  3470.404015   \n",
       "                   name='./music_genre_dataset/data.csv'  3480.937285   \n",
       "                   name='./music_genre_dataset/data.csv'  4175.874749   \n",
       "                   name='./music_genre_dataset/data.csv'  4776.862782   \n",
       "\n",
       "                                                          zero_crossing_rate  \\\n",
       "<_io.TextIOWrapper name='./music_genre_dataset/data.csv'            0.045046   \n",
       "                   name='./music_genre_dataset/data.csv'            0.058236   \n",
       "                   name='./music_genre_dataset/data.csv'            0.094040   \n",
       "                   name='./music_genre_dataset/data.csv'            0.085806   \n",
       "                   name='./music_genre_dataset/data.csv'            0.058426   \n",
       "\n",
       "                                                               mfcc1  \\\n",
       "<_io.TextIOWrapper name='./music_genre_dataset/data.csv' -305.705170   \n",
       "                   name='./music_genre_dataset/data.csv' -177.490753   \n",
       "                   name='./music_genre_dataset/data.csv' -177.869049   \n",
       "                   name='./music_genre_dataset/data.csv'  -82.979019   \n",
       "                   name='./music_genre_dataset/data.csv' -182.638275   \n",
       "\n",
       "                                                               mfcc2  \\\n",
       "<_io.TextIOWrapper name='./music_genre_dataset/data.csv'  113.060928   \n",
       "                   name='./music_genre_dataset/data.csv'  115.346100   \n",
       "                   name='./music_genre_dataset/data.csv'  118.196907   \n",
       "                   name='./music_genre_dataset/data.csv'  107.052124   \n",
       "                   name='./music_genre_dataset/data.csv'   90.676796   \n",
       "\n",
       "                                                              mfcc3  ...  \\\n",
       "<_io.TextIOWrapper name='./music_genre_dataset/data.csv'  12.118720  ...   \n",
       "                   name='./music_genre_dataset/data.csv'   9.969872  ...   \n",
       "                   name='./music_genre_dataset/data.csv' -17.550674  ...   \n",
       "                   name='./music_genre_dataset/data.csv' -25.320452  ...   \n",
       "                   name='./music_genre_dataset/data.csv'  14.119084  ...   \n",
       "\n",
       "                                                             mfcc12    mfcc13  \\\n",
       "<_io.TextIOWrapper name='./music_genre_dataset/data.csv'   1.298478  5.954477   \n",
       "                   name='./music_genre_dataset/data.csv'   1.384243 -5.837235   \n",
       "                   name='./music_genre_dataset/data.csv'  -2.420614 -9.339365   \n",
       "                   name='./music_genre_dataset/data.csv'  12.539581 -9.762303   \n",
       "                   name='./music_genre_dataset/data.csv'   5.811708 -5.149533   \n",
       "\n",
       "                                                            mfcc14     mfcc15  \\\n",
       "<_io.TextIOWrapper name='./music_genre_dataset/data.csv'  8.543867   1.117664   \n",
       "                   name='./music_genre_dataset/data.csv'  5.016451  -0.748613   \n",
       "                   name='./music_genre_dataset/data.csv' -9.939324  -3.909892   \n",
       "                   name='./music_genre_dataset/data.csv'  2.562252  -6.300853   \n",
       "                   name='./music_genre_dataset/data.csv'  0.192984 -14.480762   \n",
       "\n",
       "                                                            mfcc16    mfcc17  \\\n",
       "<_io.TextIOWrapper name='./music_genre_dataset/data.csv'  0.591559  0.057474   \n",
       "                   name='./music_genre_dataset/data.csv'  5.065469 -5.084879   \n",
       "                   name='./music_genre_dataset/data.csv' -5.570624 -1.839023   \n",
       "                   name='./music_genre_dataset/data.csv'  2.996785 -8.718455   \n",
       "                   name='./music_genre_dataset/data.csv'  6.862884 -4.442362   \n",
       "\n",
       "                                                            mfcc18    mfcc19  \\\n",
       "<_io.TextIOWrapper name='./music_genre_dataset/data.csv' -3.712341 -1.004448   \n",
       "                   name='./music_genre_dataset/data.csv' -2.795499  2.435524   \n",
       "                   name='./music_genre_dataset/data.csv' -2.778421 -3.046866   \n",
       "                   name='./music_genre_dataset/data.csv' -0.326581 -2.980347   \n",
       "                   name='./music_genre_dataset/data.csv' -2.986888 -4.816248   \n",
       "\n",
       "                                                            mfcc20  label  \n",
       "<_io.TextIOWrapper name='./music_genre_dataset/data.csv' -1.802433  blues  \n",
       "                   name='./music_genre_dataset/data.csv' -5.375208  blues  \n",
       "                   name='./music_genre_dataset/data.csv' -8.115808  blues  \n",
       "                   name='./music_genre_dataset/data.csv'  0.712601  blues  \n",
       "                   name='./music_genre_dataset/data.csv'  5.400326  blues  \n",
       "\n",
       "[5 rows x 28 columns]"
      ]
     },
     "execution_count": 13,
     "metadata": {},
     "output_type": "execute_result"
    }
   ],
   "source": [
    "data = pd.read_csv('./music_genre_dataset/data.csv')\n",
    "data.head()"
   ]
  },
  {
   "cell_type": "code",
   "execution_count": 14,
   "metadata": {},
   "outputs": [],
   "source": [
    "# Dropping unneccesary columns\n",
    "data = data.drop(['filename'],axis=1)"
   ]
  },
  {
   "cell_type": "code",
   "execution_count": 15,
   "metadata": {},
   "outputs": [],
   "source": [
    "# Encode labels\n",
    "\n",
    "\n",
    "genre_list = data.iloc[:, -1]\n",
    "encoder = LabelEncoder()\n",
    "y = encoder.fit_transform(genre_list)"
   ]
  },
  {
   "cell_type": "code",
   "execution_count": 16,
   "metadata": {},
   "outputs": [],
   "source": [
    "# Scaling feature columns\n"
   ]
  },
  {
   "cell_type": "code",
   "execution_count": 17,
   "metadata": {},
   "outputs": [
    {
     "ename": "ValueError",
     "evalue": "could not convert string to float: \"encoding='UTF-8'>\"",
     "output_type": "error",
     "traceback": [
      "\u001b[0;31m---------------------------------------------------------------------------\u001b[0m",
      "\u001b[0;31mValueError\u001b[0m                                Traceback (most recent call last)",
      "\u001b[0;32m<ipython-input-17-817027498c4b>\u001b[0m in \u001b[0;36m<module>\u001b[0;34m\u001b[0m\n\u001b[1;32m      1\u001b[0m \u001b[0mscaler\u001b[0m \u001b[0;34m=\u001b[0m \u001b[0mStandardScaler\u001b[0m\u001b[0;34m(\u001b[0m\u001b[0;34m)\u001b[0m\u001b[0;34m\u001b[0m\u001b[0;34m\u001b[0m\u001b[0m\n\u001b[0;32m----> 2\u001b[0;31m \u001b[0mX\u001b[0m \u001b[0;34m=\u001b[0m \u001b[0mscaler\u001b[0m\u001b[0;34m.\u001b[0m\u001b[0mfit_transform\u001b[0m\u001b[0;34m(\u001b[0m\u001b[0mnp\u001b[0m\u001b[0;34m.\u001b[0m\u001b[0marray\u001b[0m\u001b[0;34m(\u001b[0m\u001b[0mdata\u001b[0m\u001b[0;34m.\u001b[0m\u001b[0miloc\u001b[0m\u001b[0;34m[\u001b[0m\u001b[0;34m:\u001b[0m\u001b[0;34m,\u001b[0m \u001b[0;34m:\u001b[0m\u001b[0;34m-\u001b[0m\u001b[0;36m1\u001b[0m\u001b[0;34m]\u001b[0m\u001b[0;34m,\u001b[0m \u001b[0mdtype\u001b[0m \u001b[0;34m=\u001b[0m \u001b[0mfloat\u001b[0m\u001b[0;34m)\u001b[0m\u001b[0;34m)\u001b[0m\u001b[0;34m\u001b[0m\u001b[0;34m\u001b[0m\u001b[0m\n\u001b[0m",
      "\u001b[0;31mValueError\u001b[0m: could not convert string to float: \"encoding='UTF-8'>\""
     ]
    }
   ],
   "source": [
    "scaler = StandardScaler()\n",
    "X = scaler.fit_transform(np.array(data.iloc[:, :-1], dtype = float))"
   ]
  },
  {
   "cell_type": "code",
   "execution_count": null,
   "metadata": {},
   "outputs": [],
   "source": [
    "# Diving data into training and test\n"
   ]
  },
  {
   "cell_type": "code",
   "execution_count": null,
   "metadata": {},
   "outputs": [],
   "source": [
    "X_train, X_test, y_train, y_test = train_test_split(X, y, test_size=0.2)"
   ]
  },
  {
   "cell_type": "code",
   "execution_count": null,
   "metadata": {},
   "outputs": [],
   "source": [
    "len(y_train)"
   ]
  },
  {
   "cell_type": "code",
   "execution_count": null,
   "metadata": {},
   "outputs": [],
   "source": [
    "len(y_test)"
   ]
  },
  {
   "cell_type": "code",
   "execution_count": null,
   "metadata": {},
   "outputs": [],
   "source": [
    "X_train[10]"
   ]
  },
  {
   "cell_type": "markdown",
   "metadata": {},
   "source": [
    "# Classification with Keras\n"
   ]
  },
  {
   "cell_type": "code",
   "execution_count": null,
   "metadata": {},
   "outputs": [],
   "source": [
    "from keras import models\n",
    "from keras import layers\n",
    "\n",
    "model = models.Sequential()\n",
    "model.add(layers.Dense(256, activation='relu', input_shape=(X_train.shape[1],)))\n",
    "\n",
    "model.add(layers.Dense(128, activation='relu'))\n",
    "\n",
    "model.add(layers.Dense(64, activation='relu'))\n",
    "\n",
    "model.add(layers.Dense(10, activation='softmax'))"
   ]
  },
  {
   "cell_type": "code",
   "execution_count": null,
   "metadata": {},
   "outputs": [],
   "source": [
    "\n",
    "model.compile(optimizer='adam',\n",
    "              loss='sparse_categorical_crossentropy',\n",
    "              metrics=['accuracy'])"
   ]
  },
  {
   "cell_type": "code",
   "execution_count": null,
   "metadata": {},
   "outputs": [],
   "source": [
    "history = model.fit(X_train,\n",
    "                    y_train,\n",
    "                    epochs=20,\n",
    "                    batch_size=128)"
   ]
  },
  {
   "cell_type": "code",
   "execution_count": null,
   "metadata": {},
   "outputs": [],
   "source": [
    "test_loss, test_acc = model.evaluate(X_test,y_test)"
   ]
  },
  {
   "cell_type": "code",
   "execution_count": null,
   "metadata": {},
   "outputs": [],
   "source": [
    "print('test_acc: ',test_acc)"
   ]
  },
  {
   "cell_type": "markdown",
   "metadata": {},
   "source": [
    "# Validating out approuch\n"
   ]
  },
  {
   "cell_type": "code",
   "execution_count": null,
   "metadata": {},
   "outputs": [],
   "source": [
    "x_val = X_train[:200]\n",
    "partial_x_train = X_train[200:]\n",
    "\n",
    "y_val = y_train[:200]\n",
    "partial_y_train = y_train[200:]"
   ]
  },
  {
   "cell_type": "code",
   "execution_count": null,
   "metadata": {},
   "outputs": [],
   "source": [
    "model = models.Sequential()\n",
    "model.add(layers.Dense(512, activation='relu', input_shape=(X_train.shape[1],)))\n",
    "model.add(layers.Dense(256, activation='relu'))\n",
    "model.add(layers.Dense(128, activation='relu'))\n",
    "model.add(layers.Dense(64, activation='relu'))\n",
    "model.add(layers.Dense(10, activation='softmax'))\n",
    "\n",
    "model.compile(optimizer='adam',\n",
    "              loss='sparse_categorical_crossentropy',\n",
    "              metrics=['accuracy'])\n",
    "\n",
    "model.fit(partial_x_train,\n",
    "          partial_y_train,\n",
    "          epochs=30,\n",
    "          batch_size=512,\n",
    "          validation_data=(x_val, y_val))\n",
    "results = model.evaluate(X_test, y_test)"
   ]
  },
  {
   "cell_type": "code",
   "execution_count": null,
   "metadata": {},
   "outputs": [],
   "source": [
    "results"
   ]
  },
  {
   "cell_type": "markdown",
   "metadata": {},
   "source": [
    "# Predictions on Test Data"
   ]
  },
  {
   "cell_type": "code",
   "execution_count": null,
   "metadata": {},
   "outputs": [],
   "source": [
    "predictions = model.predict(X_test)"
   ]
  },
  {
   "cell_type": "code",
   "execution_count": null,
   "metadata": {},
   "outputs": [],
   "source": [
    "\n",
    "predictions[0].shape"
   ]
  },
  {
   "cell_type": "code",
   "execution_count": null,
   "metadata": {},
   "outputs": [],
   "source": [
    "\n",
    "np.sum(predictions[0])"
   ]
  },
  {
   "cell_type": "code",
   "execution_count": null,
   "metadata": {},
   "outputs": [],
   "source": [
    "\n",
    "np.argmax(predictions[0])"
   ]
  },
  {
   "cell_type": "code",
   "execution_count": null,
   "metadata": {},
   "outputs": [],
   "source": []
  }
 ],
 "metadata": {
  "kernelspec": {
   "display_name": "Python 3",
   "language": "python",
   "name": "python3"
  },
  "language_info": {
   "codemirror_mode": {
    "name": "ipython",
    "version": 3
   },
   "file_extension": ".py",
   "mimetype": "text/x-python",
   "name": "python",
   "nbconvert_exporter": "python",
   "pygments_lexer": "ipython3",
   "version": "3.7.4"
  }
 },
 "nbformat": 4,
 "nbformat_minor": 2
}
